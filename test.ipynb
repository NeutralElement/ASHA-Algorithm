{
 "cells": [
  {
   "cell_type": "code",
   "execution_count": 4,
   "metadata": {},
   "outputs": [],
   "source": [
    "import triangle as tri \n",
    "import numpy as np\n",
    "import matplotlib.pyplot as plt\n",
    "import pypoman \n",
    "import fractions as fr\n",
    "\n",
    "def array_index(T, a):\n",
    "    for i, arr in enumerate(T):\n",
    "        if np.array_equal(arr, a):\n",
    "            return i\n",
    "    raise ValueError(f'{a} is not in list')\n",
    "\n",
    "\n",
    "def triag_listo(T,v):\n",
    "    a = v[0]\n",
    "    b = v[1]\n",
    "    c = v[2]\n",
    "    \n",
    "    aa = array_index(T,a)\n",
    "    bb = array_index(T,b)\n",
    "    cc = array_index(T,c)\n",
    "    seg = [[aa,bb],[bb,cc],[cc,aa]]\n",
    "\n",
    "    x = (a+b+c)/3\n",
    "    return seg, x   \n",
    "\n"
   ]
  },
  {
   "cell_type": "code",
   "execution_count": 9,
   "metadata": {},
   "outputs": [
    {
     "data": {
      "text/plain": [
       "1.0"
      ]
     },
     "execution_count": 9,
     "metadata": {},
     "output_type": "execute_result"
    }
   ],
   "source": [
    "np.ones(1)[0]"
   ]
  },
  {
   "cell_type": "code",
   "execution_count": 3,
   "metadata": {},
   "outputs": [
    {
     "name": "stdout",
     "output_type": "stream",
     "text": [
      "[1 4 3]\n"
     ]
    }
   ],
   "source": [
    "a = np.array([1,2,3])\n",
    "\n",
    "a[1] = 4\n",
    "\n",
    "print(a)"
   ]
  },
  {
   "cell_type": "code",
   "execution_count": 3,
   "metadata": {},
   "outputs": [
    {
     "data": {
      "text/plain": [
       "array([0., 0.])"
      ]
     },
     "execution_count": 3,
     "metadata": {},
     "output_type": "execute_result"
    }
   ],
   "source": [
    "np.delete(np.zeros([3]),0,0)"
   ]
  },
  {
   "cell_type": "code",
   "execution_count": 19,
   "metadata": {},
   "outputs": [
    {
     "data": {
      "text/plain": [
       "[2, 3, 4]"
      ]
     },
     "execution_count": 19,
     "metadata": {},
     "output_type": "execute_result"
    }
   ],
   "source": [
    "[1,2,3,4][-3:]"
   ]
  },
  {
   "cell_type": "code",
   "execution_count": 13,
   "metadata": {},
   "outputs": [
    {
     "data": {
      "text/plain": [
       "array(0.01000731)"
      ]
     },
     "execution_count": 13,
     "metadata": {},
     "output_type": "execute_result"
    }
   ],
   "source": [
    "np.vectorize(float)(fr.Fraction(123213213123543123213,12312321242143214321312))"
   ]
  },
  {
   "cell_type": "code",
   "execution_count": 15,
   "metadata": {},
   "outputs": [
    {
     "name": "stdout",
     "output_type": "stream",
     "text": [
      "[0.5        0.66666667]\n"
     ]
    }
   ],
   "source": [
    "print(np.vectorize(float)(np.array([fr.Fraction(1,2), fr.Fraction(2,3)])))"
   ]
  },
  {
   "cell_type": "code",
   "execution_count": 12,
   "metadata": {},
   "outputs": [],
   "source": [
    "a = np.array([1,1,0])\n",
    "b = np.array([2,1,0])\n",
    "c = np.array([2,2,0])"
   ]
  },
  {
   "cell_type": "code",
   "execution_count": 14,
   "metadata": {},
   "outputs": [],
   "source": [
    "\n",
    "A,b = pypoman.duality.compute_polytope_halfspaces([a,b,c])"
   ]
  },
  {
   "cell_type": "code",
   "execution_count": 15,
   "metadata": {},
   "outputs": [
    {
     "data": {
      "text/plain": [
       "array([[ 1., -0., -0.],\n",
       "       [-1.,  1., -0.],\n",
       "       [-0., -1., -0.],\n",
       "       [-0., -0., -1.]])"
      ]
     },
     "execution_count": 15,
     "metadata": {},
     "output_type": "execute_result"
    }
   ],
   "source": [
    "A"
   ]
  },
  {
   "cell_type": "code",
   "execution_count": 16,
   "metadata": {},
   "outputs": [
    {
     "data": {
      "text/plain": [
       "array([ 2.,  0., -1.,  0.])"
      ]
     },
     "execution_count": 16,
     "metadata": {},
     "output_type": "execute_result"
    }
   ],
   "source": [
    "b"
   ]
  },
  {
   "cell_type": "code",
   "execution_count": 4,
   "metadata": {},
   "outputs": [],
   "source": [
    "\n",
    "a = np.array([0,0])\n",
    "b = np.array([-1,-1])\n",
    "c = np.array([0,-2])\n",
    "d = np.array([1,-2])\n",
    "e = np.array([2,-1])\n",
    "f = np.array([1,0])\n",
    "\n",
    "g = np.array([-0.25,-0.5])\n",
    "h = np.array([1,-0.5])\n",
    "i = np.array([0.75,-0.25])\n",
    "\n",
    "tria = dict()\n",
    "\n",
    "\n",
    "vertices = [a,b,c,d,e,f,g,h,i]\n",
    "segments = []\n",
    "holes = []\n",
    "\n",
    "Limpios = [[g,h,i]]\n",
    "\n",
    "for v in Limpios:\n",
    "    seg, x = triag_listo(vertices, v)\n",
    "\n",
    "    for s in seg:\n",
    "        segments.append(s)\n",
    "    holes.append(x)\n",
    "\n",
    "\n",
    "tria[\"vertices\"] = vertices\n",
    "tria[\"segments\"] = segments\n",
    "tria[\"holes\"] = holes\n",
    "\n",
    "t = tri.triangulate(tria, opts=\"pc\")"
   ]
  },
  {
   "cell_type": "code",
   "execution_count": 5,
   "metadata": {},
   "outputs": [
    {
     "data": {
      "image/png": "[encoded data removed]",
      "text/plain": [
       "<Figure size 600x300 with 2 Axes>"
      ]
     },
     "metadata": {},
     "output_type": "display_data"
    }
   ],
   "source": [
    "tri.compare(plt, tria, t)\n",
    "plt.show()"
   ]
  },
  {
   "cell_type": "code",
   "execution_count": 6,
   "metadata": {},
   "outputs": [
    {
     "data": {
      "text/plain": [
       "{'vertices': array([[ 0.  ,  0.  ],\n",
       "        [-1.  , -1.  ],\n",
       "        [ 0.  , -2.  ],\n",
       "        [ 1.  , -2.  ],\n",
       "        [ 2.  , -1.  ],\n",
       "        [ 1.  ,  0.  ],\n",
       "        [-0.25, -0.5 ],\n",
       "        [ 1.  , -0.5 ],\n",
       "        [ 0.75, -0.25]]),\n",
       " 'vertex_markers': array([[1],\n",
       "        [1],\n",
       "        [1],\n",
       "        [1],\n",
       "        [1],\n",
       "        [1],\n",
       "        [1],\n",
       "        [1],\n",
       "        [1]], dtype=int32),\n",
       " 'triangles': array([[1, 2, 6],\n",
       "        [6, 0, 1],\n",
       "        [8, 0, 6],\n",
       "        [6, 2, 7],\n",
       "        [3, 4, 7],\n",
       "        [8, 7, 5],\n",
       "        [5, 7, 4],\n",
       "        [8, 5, 0],\n",
       "        [7, 2, 3]], dtype=int32),\n",
       " 'segments': array([[7, 6],\n",
       "        [8, 7],\n",
       "        [8, 6],\n",
       "        [2, 1],\n",
       "        [3, 2],\n",
       "        [4, 3],\n",
       "        [5, 4],\n",
       "        [0, 5],\n",
       "        [1, 0]], dtype=int32),\n",
       " 'segment_markers': array([[1],\n",
       "        [1],\n",
       "        [1],\n",
       "        [1],\n",
       "        [1],\n",
       "        [1],\n",
       "        [1],\n",
       "        [1],\n",
       "        [1]], dtype=int32),\n",
       " 'holes': array([[ 0.5       , -0.41666667]])}"
      ]
     },
     "execution_count": 6,
     "metadata": {},
     "output_type": "execute_result"
    }
   ],
   "source": [
    "t\n"
   ]
  },
  {
   "cell_type": "code",
   "execution_count": 7,
   "metadata": {},
   "outputs": [],
   "source": [
    "t[\"holes\"] = np.append(t[\"holes\"], np.array([[0,-0.25]]), axis=0)"
   ]
  },
  {
   "cell_type": "code",
   "execution_count": 8,
   "metadata": {},
   "outputs": [
    {
     "data": {
      "image/png": "[encoded data removed]",
      "text/plain": [
       "<Figure size 600x300 with 2 Axes>"
      ]
     },
     "metadata": {},
     "output_type": "display_data"
    }
   ],
   "source": [
    "tri.compare(plt, tria, t)\n",
    "plt.show()"
   ]
  },
  {
   "cell_type": "code",
   "execution_count": 9,
   "metadata": {},
   "outputs": [],
   "source": [
    "t[\"segment_markers\"] = np.array([\n",
    "    [1],\n",
    "    [1],\n",
    "    [1],\n",
    "    [0],\n",
    "    [0],\n",
    "    [0]\n",
    "])"
   ]
  },
  {
   "cell_type": "code",
   "execution_count": 10,
   "metadata": {},
   "outputs": [],
   "source": [
    "t = tri.triangulate(t, \"pc\")"
   ]
  },
  {
   "cell_type": "code",
   "execution_count": 11,
   "metadata": {},
   "outputs": [],
   "source": [
    "del t[\"holes\"]"
   ]
  }
 ],
 "metadata": {
  "kernelspec": {
   "display_name": "Cplex",
   "language": "python",
   "name": "python3"
  },
  "language_info": {
   "codemirror_mode": {
    "name": "ipython",
    "version": 3
   },
   "file_extension": ".py",
   "mimetype": "text/x-python",
   "name": "python",
   "nbconvert_exporter": "python",
   "pygments_lexer": "ipython3",
   "version": "3.12.2"
  }
 },
 "nbformat": 4,
 "nbformat_minor": 2
}
